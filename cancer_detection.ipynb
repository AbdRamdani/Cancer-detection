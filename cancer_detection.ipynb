{
  "nbformat": 4,
  "nbformat_minor": 0,
  "metadata": {
    "colab": {
      "name": "cancer_detection.ipynb",
      "provenance": [],
      "collapsed_sections": []
    },
    "kernelspec": {
      "name": "python3",
      "display_name": "Python 3"
    }
  },
  "cells": [
    {
      "cell_type": "code",
      "metadata": {
        "id": "9QzRhgXxOngs",
        "colab_type": "code",
        "colab": {
          "resources": {
            "http://localhost:8080/nbextensions/google.colab/files.js": {
              "data": "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",
              "ok": true,
              "headers": [
                [
                  "content-type",
                  "application/javascript"
                ]
              ],
              "status": 200,
              "status_text": ""
            }
          },
          "base_uri": "https://localhost:8080/",
          "height": 91
        },
        "outputId": "b6d3ffe0-6f8b-4221-e6b0-96253ccdd672"
      },
      "source": [
        "!pip install -q kaggle\n",
        "from google.colab import files\n",
        "files.upload()"
      ],
      "execution_count": 1,
      "outputs": [
        {
          "output_type": "display_data",
          "data": {
            "text/html": [
              "\n",
              "     <input type=\"file\" id=\"files-b12a91b1-828b-4119-8032-49e2e4632a10\" name=\"files[]\" multiple disabled />\n",
              "     <output id=\"result-b12a91b1-828b-4119-8032-49e2e4632a10\">\n",
              "      Upload widget is only available when the cell has been executed in the\n",
              "      current browser session. Please rerun this cell to enable.\n",
              "      </output>\n",
              "      <script src=\"/nbextensions/google.colab/files.js\"></script> "
            ],
            "text/plain": [
              "<IPython.core.display.HTML object>"
            ]
          },
          "metadata": {
            "tags": []
          }
        },
        {
          "output_type": "stream",
          "text": [
            "Saving kaggle.json to kaggle.json\n"
          ],
          "name": "stdout"
        },
        {
          "output_type": "execute_result",
          "data": {
            "text/plain": [
              "{'kaggle.json': b'{\"username\":\"ouassimanischihati\",\"key\":\"f10109902d83dcb46ec83f537ed2f7ed\"}'}"
            ]
          },
          "metadata": {
            "tags": []
          },
          "execution_count": 1
        }
      ]
    },
    {
      "cell_type": "markdown",
      "metadata": {
        "id": "ZJ_rKyibeWhQ",
        "colab_type": "text"
      },
      "source": [
        "importing the DATASET from kaggle.com"
      ]
    },
    {
      "cell_type": "code",
      "metadata": {
        "id": "-EHvD2JVOuLP",
        "colab_type": "code",
        "colab": {
          "base_uri": "https://localhost:8080/",
          "height": 68
        },
        "outputId": "a4d287af-5e02-4566-80c6-25e8fe5cf91e"
      },
      "source": [
        "!mkdir -p ~/.kaggle\n",
        "!cp kaggle.json ~/.kaggle/\n",
        "!chmod 600 ~/.kaggle/kaggle.json\n",
        "!kaggle datasets download -d fanconic/skin-cancer-malignant-vs-benign"
      ],
      "execution_count": 2,
      "outputs": [
        {
          "output_type": "stream",
          "text": [
            "Downloading skin-cancer-malignant-vs-benign.zip to /content\n",
            " 99% 321M/325M [00:03<00:00, 92.8MB/s]\n",
            "100% 325M/325M [00:04<00:00, 84.5MB/s]\n"
          ],
          "name": "stdout"
        }
      ]
    },
    {
      "cell_type": "markdown",
      "metadata": {
        "id": "u-pvsIDaeji2",
        "colab_type": "text"
      },
      "source": [
        "unzip the FILE.ZIP"
      ]
    },
    {
      "cell_type": "code",
      "metadata": {
        "id": "WWDE_sT-O0yP",
        "colab_type": "code",
        "colab": {
          "base_uri": "https://localhost:8080/",
          "height": 34
        },
        "outputId": "160b46ab-3d9b-4445-86e1-ae30ef59ef8c"
      },
      "source": [
        "from zipfile import ZipFile\n",
        "\n",
        "file_name=\"skin-cancer-malignant-vs-benign.zip\"\n",
        "with ZipFile(file_name, 'r') as zip :\n",
        "\n",
        "     zip.extractall()\n",
        "     print(\"done\")"
      ],
      "execution_count": 6,
      "outputs": [
        {
          "output_type": "stream",
          "text": [
            "done\n"
          ],
          "name": "stdout"
        }
      ]
    },
    {
      "cell_type": "markdown",
      "metadata": {
        "id": "nH5QSdpce9xi",
        "colab_type": "text"
      },
      "source": [
        "DEFINE THE CALLBACK"
      ]
    },
    {
      "cell_type": "code",
      "metadata": {
        "id": "YMMxZqkJO5HD",
        "colab_type": "code",
        "colab": {
          "base_uri": "https://localhost:8080/",
          "height": 34
        },
        "outputId": "dedfe07c-982b-4aca-cc71-dfe9cf4f0e80"
      },
      "source": [
        "import tensorflow as tf\n",
        "import numpy as np\n",
        "from tensorflow import keras\n",
        "import matplotlib.pyplot as plt\n",
        "from keras.preprocessing.image import ImageDataGenerator\n",
        "\n",
        "class MyCallback(keras.callbacks.Callback) :\n",
        "  def on_epoch_end(self, epochs, logs={}):\n",
        "    if logs.get('acc')>0.80 :\n",
        "      print('stop training')\n",
        "      self.stop_training=True\n",
        "\n",
        "callbacks=MyCallback()"
      ],
      "execution_count": 10,
      "outputs": [
        {
          "output_type": "stream",
          "text": [
            "Using TensorFlow backend.\n"
          ],
          "name": "stderr"
        }
      ]
    },
    {
      "cell_type": "markdown",
      "metadata": {
        "id": "0vzwkGSRfNdG",
        "colab_type": "text"
      },
      "source": [
        "PRECISE THE DIRECTORY For both malignant and benign , we have 2637 training images and 720 validation images."
      ]
    },
    {
      "cell_type": "code",
      "metadata": {
        "id": "yj7Im3xRO6XA",
        "colab_type": "code",
        "colab": {
          "base_uri": "https://localhost:8080/",
          "height": 173
        },
        "outputId": "bd4d093d-60b3-4b19-fc15-69b613f46b55"
      },
      "source": [
        "import os\n",
        "\n",
        "BASE_DIR='/content/'\n",
        "TRAIN_DIR = os.path.join(BASE_DIR, 'train')\n",
        "\n",
        "VAL_DIR = os.path.join(BASE_DIR, 'test')\n",
        "\n",
        "TRAIN_DIR_BENIGN = os.path.join(TRAIN_DIR, 'benign' )\n",
        "\n",
        "VAL_DIR_BENIGN = os.path.join(VAL_DIR, 'benign' )\n",
        "\n",
        "TRAIN_DIR_MALIGNANT = os.path.join(TRAIN_DIR, 'malignant' )\n",
        "\n",
        "VAL_DIR_MALIGNANT = os.path.join(VAL_DIR, 'malignant' )\n",
        "\n",
        "TRAIN_DIR_BENIGN_LIST=os.listdir(TRAIN_DIR_BENIGN)\n",
        "\n",
        "TRAIN_DIR_MALIGNANT_LIST=os.listdir(TRAIN_DIR_MALIGNANT)\n",
        "\n",
        "VAL_DIR_BENIGN_LIST=os.listdir(VAL_DIR_BENIGN)\n",
        "\n",
        "VAL_DIR_MALIGNANT_LIST=os.listdir(VAL_DIR_BENIGN)\n",
        "\n",
        "print(os.listdir(TRAIN_DIR_BENIGN))\n",
        "\n",
        "print(os.listdir(TRAIN_DIR_MALIGNANT))\n",
        "\n",
        "print(os.listdir(VAL_DIR_BENIGN))\n",
        "\n",
        "print(os.listdir(VAL_DIR_MALIGNANT))\n",
        "\n",
        "print(len(TRAIN_DIR_BENIGN_LIST))\n",
        "\n",
        "print(len(VAL_DIR_BENIGN_LIST))\n",
        "\n",
        "print(len(TRAIN_DIR_MALIGNANT_LIST))\n",
        "\n",
        "print(len(VAL_DIR_MALIGNANT_LIST))\n"
      ],
      "execution_count": 44,
      "outputs": [
        {
          "output_type": "stream",
          "text": [
            "['1268.jpg', '650.jpg', '1161.jpg', '1224.jpg', '1148.jpg', '1153.jpg', '102.jpg', '1636.jpg', '1000.jpg', '849.jpg', '1501.jpg', '19.jpg', '1692.jpg', '266.jpg', '1493.jpg', '697.jpg', '701.jpg', '1341.jpg', '1285.jpg', '779.jpg', '489.jpg', '463.jpg', '606.jpg', '852.jpg', '1475.jpg', '55.jpg', '555.jpg', '17.jpg', '1016.jpg', '1015.jpg', '1104.jpg', '804.jpg', '1480.jpg', '672.jpg', '162.jpg', '1086.jpg', '1455.jpg', '947.jpg', '1188.jpg', '1613.jpg', '1097.jpg', '357.jpg', '39.jpg', '853.jpg', '839.jpg', '811.jpg', '890.jpg', '1062.jpg', '1666.jpg', '353.jpg', '747.jpg', '750.jpg', '1351.jpg', '1558.jpg', '1245.jpg', '677.jpg', '1182.jpg', '1454.jpg', '1303.jpg', '1615.jpg', '592.jpg', '730.jpg', '506.jpg', '1050.jpg', '582.jpg', '1684.jpg', '1796.jpg', '954.jpg', '1369.jpg', '666.jpg', '4.jpg', '264.jpg', '426.jpg', '837.jpg', '1539.jpg', '254.jpg', '576.jpg', '933.jpg', '738.jpg', '1248.jpg', '424.jpg', '1043.jpg', '600.jpg', '577.jpg', '1172.jpg', '110.jpg', '500.jpg', '1735.jpg', '421.jpg', '1073.jpg', '78.jpg', '1663.jpg', '1234.jpg', '1272.jpg', '733.jpg', '1662.jpg', '1098.jpg', '1438.jpg', '1467.jpg', '1554.jpg', '397.jpg', '1100.jpg', '821.jpg', '1465.jpg', '856.jpg', '834.jpg', '694.jpg', '759.jpg', '99.jpg', '1152.jpg', '1010.jpg', '1048.jpg', '1733.jpg', '460.jpg', '1379.jpg', '507.jpg', '534.jpg', '662.jpg', '292.jpg', '599.jpg', '163.jpg', '1059.jpg', '486.jpg', '346.jpg', '931.jpg', '336.jpg', '986.jpg', '314.jpg', '749.jpg', '1417.jpg', '1160.jpg', '1052.jpg', '149.jpg', '261.jpg', '228.jpg', '1491.jpg', '422.jpg', '231.jpg', '352.jpg', '1464.jpg', '1752.jpg', '957.jpg', '87.jpg', '1046.jpg', '990.jpg', '1220.jpg', '1336.jpg', '123.jpg', '541.jpg', '598.jpg', '767.jpg', '861.jpg', '1184.jpg', '695.jpg', '1256.jpg', '992.jpg', '905.jpg', '1716.jpg', '614.jpg', '192.jpg', '1012.jpg', '1459.jpg', '1286.jpg', '435.jpg', '235.jpg', '949.jpg', '1476.jpg', '1495.jpg', '109.jpg', '1665.jpg', '376.jpg', '927.jpg', '112.jpg', '1534.jpg', '440.jpg', '70.jpg', '197.jpg', '1340.jpg', '1413.jpg', '1207.jpg', '902.jpg', '645.jpg', '769.jpg', '1089.jpg', '396.jpg', '1738.jpg', '1213.jpg', '139.jpg', '487.jpg', '625.jpg', '1233.jpg', '1451.jpg', '41.jpg', '1067.jpg', '1383.jpg', '1117.jpg', '227.jpg', '14.jpg', '13.jpg', '1702.jpg', '360.jpg', '488.jpg', '524.jpg', '1766.jpg', '305.jpg', '85.jpg', '1399.jpg', '30.jpg', '100.jpg', '1039.jpg', '52.jpg', '918.jpg', '1520.jpg', '620.jpg', '706.jpg', '842.jpg', '1075.jpg', '872.jpg', '1328.jpg', '742.jpg', '1293.jpg', '72.jpg', '483.jpg', '1028.jpg', '1591.jpg', '731.jpg', '1725.jpg', '797.jpg', '1001.jpg', '324.jpg', '326.jpg', '101.jpg', '543.jpg', '1051.jpg', '809.jpg', '1740.jpg', '1506.jpg', '1707.jpg', '1458.jpg', '640.jpg', '1769.jpg', '1639.jpg', '1111.jpg', '1014.jpg', '1572.jpg', '865.jpg', '1005.jpg', '810.jpg', '1675.jpg', '1510.jpg', '390.jpg', '115.jpg', '657.jpg', '760.jpg', '1071.jpg', '1705.jpg', '1640.jpg', '907.jpg', '1102.jpg', '1453.jpg', '365.jpg', '1732.jpg', '1608.jpg', '539.jpg', '201.jpg', '142.jpg', '302.jpg', '1557.jpg', '415.jpg', '461.jpg', '1291.jpg', '1693.jpg', '43.jpg', '1396.jpg', '1390.jpg', '680.jpg', '1101.jpg', '1551.jpg', '80.jpg', '233.jpg', '1405.jpg', '613.jpg', '851.jpg', '1549.jpg', '1755.jpg', '333.jpg', '1626.jpg', '619.jpg', '1439.jpg', '1337.jpg', '1136.jpg', '166.jpg', '1197.jpg', '1677.jpg', '1120.jpg', '1461.jpg', '999.jpg', '151.jpg', '334.jpg', '1320.jpg', '1437.jpg', '1430.jpg', '1542.jpg', '225.jpg', '1057.jpg', '1326.jpg', '618.jpg', '1450.jpg', '1353.jpg', '729.jpg', '129.jpg', '1106.jpg', '814.jpg', '716.jpg', '968.jpg', '1566.jpg', '60.jpg', '445.jpg', '1054.jpg', '1715.jpg', '679.jpg', '1395.jpg', '248.jpg', '116.jpg', '1204.jpg', '1210.jpg', '179.jpg', '836.jpg', '877.jpg', '1436.jpg', '881.jpg', '1697.jpg', '1138.jpg', '1221.jpg', '319.jpg', '921.jpg', '1382.jpg', '1008.jpg', '1158.jpg', '48.jpg', '1695.jpg', '477.jpg', '1164.jpg', '118.jpg', '130.jpg', '682.jpg', '1260.jpg', '308.jpg', '329.jpg', '207.jpg', '1650.jpg', '275.jpg', '343.jpg', '519.jpg', '141.jpg', '831.jpg', '67.jpg', '765.jpg', '252.jpg', '1404.jpg', '1532.jpg', '210.jpg', '795.jpg', '1241.jpg', '306.jpg', '47.jpg', '960.jpg', '502.jpg', '1305.jpg', '434.jpg', '198.jpg', '1090.jpg', '1618.jpg', '589.jpg', '1651.jpg', '1281.jpg', '1586.jpg', '1727.jpg', '1635.jpg', '272.jpg', '1484.jpg', '1784.jpg', '465.jpg', '755.jpg', '24.jpg', '1750.jpg', '408.jpg', '423.jpg', '1348.jpg', '1414.jpg', '1720.jpg', '443.jpg', '710.jpg', '1216.jpg', '656.jpg', '1036.jpg', '1230.jpg', '320.jpg', '1783.jpg', '481.jpg', '1063.jpg', '622.jpg', '863.jpg', '196.jpg', '833.jpg', '1053.jpg', '1254.jpg', '1661.jpg', '1391.jpg', '816.jpg', '1295.jpg', '1570.jpg', '1355.jpg', '756.jpg', '269.jpg', '1777.jpg', '771.jpg', '49.jpg', '1144.jpg', '643.jpg', '973.jpg', '217.jpg', '1712.jpg', '476.jpg', '1486.jpg', '399.jpg', '879.jpg', '708.jpg', '942.jpg', '1149.jpg', '1370.jpg', '1709.jpg', '1137.jpg', '776.jpg', '124.jpg', '860.jpg', '1616.jpg', '959.jpg', '1452.jpg', '1347.jpg', '1185.jpg', '86.jpg', '345.jpg', '1674.jpg', '597.jpg', '188.jpg', '1676.jpg', '181.jpg', '174.jpg', '812.jpg', '922.jpg', '1032.jpg', '1103.jpg', '1398.jpg', '447.jpg', '1799.jpg', '1781.jpg', '867.jpg', '1463.jpg', '1287.jpg', '1536.jpg', '1587.jpg', '1527.jpg', '864.jpg', '1091.jpg', '1141.jpg', '286.jpg', '565.jpg', '1358.jpg', '503.jpg', '844.jpg', '26.jpg', '417.jpg', '1202.jpg', '229.jpg', '1477.jpg', '81.jpg', '496.jpg', '1734.jpg', '799.jpg', '1411.jpg', '1282.jpg', '1561.jpg', '338.jpg', '578.jpg', '1621.jpg', '1385.jpg', '145.jpg', '735.jpg', '718.jpg', '523.jpg', '79.jpg', '310.jpg', '791.jpg', '702.jpg', '220.jpg', '1673.jpg', '948.jpg', '513.jpg', '639.jpg', '1594.jpg', '1656.jpg', '985.jpg', '234.jpg', '674.jpg', '977.jpg', '405.jpg', '1346.jpg', '328.jpg', '340.jpg', '65.jpg', '1072.jpg', '398.jpg', '1724.jpg', '546.jpg', '33.jpg', '214.jpg', '3.jpg', '158.jpg', '777.jpg', '218.jpg', '46.jpg', '1625.jpg', '451.jpg', '913.jpg', '20.jpg', '282.jpg', '430.jpg', '1116.jpg', '128.jpg', '316.jpg', '165.jpg', '1403.jpg', '1746.jpg', '66.jpg', '1330.jpg', '1776.jpg', '393.jpg', '1274.jpg', '997.jpg', '416.jpg', '1240.jpg', '288.jpg', '928.jpg', '975.jpg', '1469.jpg', '1482.jpg', '991.jpg', '829.jpg', '901.jpg', '1456.jpg', '1512.jpg', '1736.jpg', '342.jpg', '1524.jpg', '1643.jpg', '1236.jpg', '1789.jpg', '859.jpg', '1065.jpg', '1612.jpg', '473.jpg', '976.jpg', '857.jpg', '374.jpg', '312.jpg', '515.jpg', '1194.jpg', '1641.jpg', '168.jpg', '526.jpg', '568.jpg', '1007.jpg', '1435.jpg', '1002.jpg', '1708.jpg', '51.jpg', '970.jpg', '1507.jpg', '1280.jpg', '1508.jpg', '1237.jpg', '283.jpg', '848.jpg', '1064.jpg', '1387.jpg', '276.jpg', '242.jpg', '412.jpg', '537.jpg', '542.jpg', '38.jpg', '1040.jpg', '194.jpg', '1421.jpg', '1119.jpg', '1629.jpg', '364.jpg', '615.jpg', '504.jpg', '1529.jpg', '164.jpg', '1791.jpg', '153.jpg', '1227.jpg', '1535.jpg', '651.jpg', '607.jpg', '1108.jpg', '96.jpg', '585.jpg', '1425.jpg', '1595.jpg', '89.jpg', '1068.jpg', '953.jpg', '209.jpg', '792.jpg', '858.jpg', '453.jpg', '595.jpg', '862.jpg', '213.jpg', '569.jpg', '301.jpg', '509.jpg', '926.jpg', '1571.jpg', '331.jpg', '766.jpg', '1206.jpg', '1743.jpg', '296.jpg', '871.jpg', '1589.jpg', '1596.jpg', '1222.jpg', '1503.jpg', '843.jpg', '285.jpg', '1360.jpg', '889.jpg', '418.jpg', '400.jpg', '1753.jpg', '1423.jpg', '125.jpg', '1531.jpg', '1178.jpg', '1264.jpg', '358.jpg', '1440.jpg', '512.jpg', '1156.jpg', '1038.jpg', '370.jpg', '794.jpg', '450.jpg', '1238.jpg', '1543.jpg', '1759.jpg', '1262.jpg', '761.jpg', '1763.jpg', '1380.jpg', '1229.jpg', '1664.jpg', '1760.jpg', '1669.jpg', '1318.jpg', '974.jpg', '1187.jpg', '208.jpg', '789.jpg', '510.jpg', '709.jpg', '464.jpg', '691.jpg', '107.jpg', '1660.jpg', '280.jpg', '688.jpg', '1706.jpg', '1603.jpg', '468.jpg', '1728.jpg', '1793.jpg', '492.jpg', '212.jpg', '1235.jpg', '1770.jpg', '698.jpg', '525.jpg', '1345.jpg', '955.jpg', '886.jpg', '1739.jpg', '713.jpg', '341.jpg', '1159.jpg', '263.jpg', '1298.jpg', '1790.jpg', '1775.jpg', '1147.jpg', '111.jpg', '478.jpg', '1079.jpg', '1782.jpg', '1590.jpg', '1301.jpg', '271.jpg', '138.jpg', '736.jpg', '746.jpg', '692.jpg', '257.jpg', '1424.jpg', '395.jpg', '1774.jpg', '1546.jpg', '1249.jpg', '1332.jpg', '1457.jpg', '847.jpg', '1726.jpg', '882.jpg', '581.jpg', '808.jpg', '1022.jpg', '722.jpg', '262.jpg', '1552.jpg', '315.jpg', '29.jpg', '1686.jpg', '1284.jpg', '1017.jpg', '1419.jpg', '114.jpg', '32.jpg', '1228.jpg', '222.jpg', '961.jpg', '1560.jpg', '347.jpg', '752.jpg', '392.jpg', '1083.jpg', '875.jpg', '113.jpg', '1123.jpg', '297.jpg', '884.jpg', '744.jpg', '238.jpg', '1205.jpg', '1786.jpg', '963.jpg', '104.jpg', '1577.jpg', '845.jpg', '1525.jpg', '58.jpg', '135.jpg', '699.jpg', '1513.jpg', '355.jpg', '452.jpg', '711.jpg', '1754.jpg', '775.jpg', '726.jpg', '772.jpg', '1718.jpg', '1470.jpg', '1045.jpg', '131.jpg', '1145.jpg', '551.jpg', '258.jpg', '1223.jpg', '1314.jpg', '429.jpg', '1564.jpg', '1024.jpg', '1742.jpg', '654.jpg', '176.jpg', '40.jpg', '1427.jpg', '1168.jpg', '1418.jpg', '952.jpg', '172.jpg', '1338.jpg', '563.jpg', '781.jpg', '1638.jpg', '633.jpg', '28.jpg', '1140.jpg', '1127.jpg', '337.jpg', '1771.jpg', '908.jpg', '1494.jpg', '929.jpg', '518.jpg', '605.jpg', '1308.jpg', '696.jpg', '1271.jpg', '387.jpg', '521.jpg', '686.jpg', '182.jpg', '325.jpg', '1246.jpg', '917.jpg', '1569.jpg', '321.jpg', '184.jpg', '1744.jpg', '1609.jpg', '538.jpg', '7.jpg', '402.jpg', '786.jpg', '705.jpg', '835.jpg', '294.jpg', '1270.jpg', '1247.jpg', '156.jpg', '1460.jpg', '608.jpg', '25.jpg', '935.jpg', '1311.jpg', '1765.jpg', '1195.jpg', '1049.jpg', '739.jpg', '604.jpg', '1192.jpg', '133.jpg', '136.jpg', '1599.jpg', '204.jpg', '1723.jpg', '1568.jpg', '1447.jpg', '1540.jpg', '652.jpg', '103.jpg', '586.jpg', '1654.jpg', '1364.jpg', '175.jpg', '432.jpg', '236.jpg', '1678.jpg', '940.jpg', '249.jpg', '508.jpg', '1434.jpg', '1523.jpg', '1307.jpg', '1011.jpg', '159.jpg', '1550.jpg', '796.jpg', '1420.jpg', '1302.jpg', '590.jpg', '984.jpg', '757.jpg', '994.jpg', '996.jpg', '77.jpg', '719.jpg', '1352.jpg', '1312.jpg', '1294.jpg', '1255.jpg', '653.jpg', '1574.jpg', '373.jpg', '649.jpg', '69.jpg', '1323.jpg', '482.jpg', '200.jpg', '1658.jpg', '579.jpg', '1309.jpg', '498.jpg', '293.jpg', '446.jpg', '380.jpg', '1058.jpg', '1795.jpg', '980.jpg', '1047.jpg', '1426.jpg', '362.jpg', '359.jpg', '1356.jpg', '685.jpg', '1078.jpg', '318.jpg', '1683.jpg', '372.jpg', '1649.jpg', '469.jpg', '1196.jpg', '941.jpg', '93.jpg', '1772.jpg', '743.jpg', '1037.jpg', '501.jpg', '472.jpg', '1257.jpg', '1688.jpg', '240.jpg', '667.jpg', '629.jpg', '381.jpg', '981.jpg', '554.jpg', '1408.jpg', '12.jpg', '298.jpg', '609.jpg', '885.jpg', '1652.jpg', '121.jpg', '1442.jpg', '540.jpg', '815.jpg', '617.jpg', '1132.jpg', '497.jpg', '807.jpg', '21.jpg', '553.jpg', '661.jpg', '108.jpg', '549.jpg', '780.jpg', '1333.jpg', '1515.jpg', '1239.jpg', '1620.jpg', '1623.jpg', '386.jpg', '384.jpg', '1035.jpg', '1031.jpg', '1556.jpg', '1094.jpg', '1317.jpg', '637.jpg', '219.jpg', '1562.jpg', '665.jpg', '1020.jpg', '1099.jpg', '1150.jpg', '278.jpg', '787.jpg', '411.jpg', '891.jpg', '511.jpg', '474.jpg', '1374.jpg', '1026.jpg', '1698.jpg', '68.jpg', '1267.jpg', '978.jpg', '223.jpg', '191.jpg', '1316.jpg', '59.jpg', '727.jpg', '448.jpg', '529.jpg', '363.jpg', '1349.jpg', '1209.jpg', '299.jpg', '1388.jpg', '1021.jpg', '431.jpg', '1722.jpg', '817.jpg', '1563.jpg', '1792.jpg', '1694.jpg', '1162.jpg', '190.jpg', '1478.jpg', '1171.jpg', '203.jpg', '785.jpg', '1133.jpg', '822.jpg', '1225.jpg', '1219.jpg', '230.jpg', '1622.jpg', '35.jpg', '1580.jpg', '1069.jpg', '920.jpg', '146.jpg', '1601.jpg', '206.jpg', '485.jpg', '531.jpg', '1181.jpg', '1685.jpg', '94.jpg', '1327.jpg', '593.jpg', '1422.jpg', '382.jpg', '425.jpg', '530.jpg', '1780.jpg', '528.jpg', '1095.jpg', '1490.jpg', '34.jpg', '1372.jpg', '1009.jpg', '368.jpg', '897.jpg', '171.jpg', '1431.jpg', '1667.jpg', '1778.jpg', '1201.jpg', '1275.jpg', '1500.jpg', '403.jpg', '177.jpg', '1605.jpg', '170.jpg', '734.jpg', '1211.jpg', '601.jpg', '950.jpg', '1509.jpg', '1189.jpg', '934.jpg', '349.jpg', '924.jpg', '1751.jpg', '53.jpg', '413.jpg', '439.jpg', '178.jpg', '704.jpg', '1389.jpg', '1030.jpg', '442.jpg', '1681.jpg', '1614.jpg', '951.jpg', '505.jpg', '798.jpg', '195.jpg', '904.jpg', '868.jpg', '160.jpg', '1344.jpg', '1619.jpg', '611.jpg', '522.jpg', '1517.jpg', '137.jpg', '455.jpg', '1647.jpg', '1371.jpg', '571.jpg', '930.jpg', '1544.jpg', '1575.jpg', '1096.jpg', '989.jpg', '401.jpg', '1124.jpg', '966.jpg', '1794.jpg', '183.jpg', '714.jpg', '1004.jpg', '126.jpg', '1232.jpg', '1085.jpg', '307.jpg', '899.jpg', '193.jpg', '741.jpg', '73.jpg', '1767.jpg', '1788.jpg', '591.jpg', '547.jpg', '873.jpg', '1258.jpg', '1167.jpg', '1384.jpg', '50.jpg', '583.jpg', '1699.jpg', '1584.jpg', '75.jpg', '764.jpg', '1193.jpg', '1122.jpg', '295.jpg', '1428.jpg', '803.jpg', '1604.jpg', '641.jpg', '1304.jpg', '1082.jpg', '1526.jpg', '1142.jpg', '956.jpg', '671.jpg', '1593.jpg', '1474.jpg', '1717.jpg', '1785.jpg', '979.jpg', '841.jpg', '967.jpg', '1251.jpg', '1109.jpg', '587.jpg', '846.jpg', '64.jpg', '801.jpg', '533.jpg', '517.jpg', '277.jpg', '1433.jpg', '1296.jpg', '441.jpg', '260.jpg', '1366.jpg', '632.jpg', '983.jpg', '1407.jpg', '1444.jpg', '987.jpg', '1671.jpg', '117.jpg', '923.jpg', '350.jpg', '406.jpg', '910.jpg', '1497.jpg', '911.jpg', '1165.jpg', '850.jpg', '1283.jpg', '866.jpg', '106.jpg', '27.jpg', '1487.jpg', '832.jpg', '1198.jpg', '391.jpg', '1406.jpg', '470.jpg', '570.jpg', '1779.jpg', '62.jpg', '1653.jpg', '1186.jpg', '965.jpg', '1410.jpg', '1630.jpg', '550.jpg', '494.jpg', '23.jpg', '1749.jpg', '1489.jpg', '1121.jpg', '1199.jpg', '1598.jpg', '1498.jpg', '745.jpg', '646.jpg', '189.jpg', '1528.jpg', '1762.jpg', '187.jpg', '628.jpg', '1279.jpg', '456.jpg', '366.jpg', '564.jpg', '1093.jpg', '167.jpg', '1689.jpg', '648.jpg', '244.jpg', '493.jpg', '132.jpg', '556.jpg', '876.jpg', '1585.jpg', '1659.jpg', '1114.jpg', '683.jpg', '969.jpg', '1541.jpg', '616.jpg', '1179.jpg', '1573.jpg', '42.jpg', '148.jpg', '1582.jpg', '1292.jpg', '92.jpg', '1600.jpg', '1567.jpg', '1402.jpg', '1300.jpg', '1081.jpg', '459.jpg', '1679.jpg', '1504.jpg', '594.jpg', '793.jpg', '1432.jpg', '1174.jpg', '420.jpg', '939.jpg', '838.jpg', '1631.jpg', '655.jpg', '458.jpg', '290.jpg', '602.jpg', '281.jpg', '1597.jpg', '932.jpg', '1315.jpg', '827.jpg', '1522.jpg', '1741.jpg', '410.jpg', '896.jpg', '703.jpg', '270.jpg', '557.jpg', '1670.jpg', '715.jpg', '173.jpg', '1761.jpg', '1472.jpg', '265.jpg', '371.jpg', '818.jpg', '1212.jpg', '1076.jpg', '898.jpg', '1553.jpg', '375.jpg', '274.jpg', '1496.jpg', '1335.jpg', '1700.jpg', '1263.jpg', '82.jpg', '383.jpg', '1113.jpg', '1449.jpg', '1375.jpg', '377.jpg', '630.jpg', '1588.jpg', '737.jpg', '544.jpg', '1729.jpg', '610.jpg', '1368.jpg', '1511.jpg', '309.jpg', '1627.jpg', '1505.jpg', '221.jpg', '1175.jpg', '279.jpg', '1157.jpg', '1668.jpg', '1555.jpg', '143.jpg', '1624.jpg', '247.jpg', '1217.jpg', '199.jpg', '732.jpg', '1252.jpg', '782.jpg', '1394.jpg', '1429.jpg', '1259.jpg', '1339.jpg', '687.jpg', '945.jpg', '36.jpg', '1446.jpg', '1581.jpg', '988.jpg', '1518.jpg', '621.jpg', '995.jpg', '1250.jpg', '723.jpg', '157.jpg', '1218.jpg', '152.jpg', '1041.jpg', '1363.jpg', '1128.jpg', '1680.jpg', '155.jpg', '1066.jpg', '1548.jpg', '169.jpg', '669.jpg', '1176.jpg', '150.jpg', '1329.jpg', '1645.jpg', '1325.jpg', '1163.jpg', '1361.jpg', '788.jpg', '351.jpg', '467.jpg', '120.jpg', '514.jpg', '728.jpg', '134.jpg', '339.jpg', '1416.jpg', '1617.jpg', '232.jpg', '246.jpg', '1730.jpg', '784.jpg', '971.jpg', '6.jpg', '870.jpg', '855.jpg', '1533.jpg', '584.jpg', '1131.jpg', '1583.jpg', '466.jpg', '1060.jpg', '516.jpg', '915.jpg', '1027.jpg', '1462.jpg', '1606.jpg', '1703.jpg', '76.jpg', '1313.jpg', '1690.jpg', '883.jpg', '707.jpg', '1324.jpg', '91.jpg', '22.jpg', '239.jpg', '754.jpg', '327.jpg', '740.jpg', '499.jpg', '1190.jpg', '938.jpg', '1397.jpg', '1056.jpg', '1289.jpg', '1107.jpg', '490.jpg', '753.jpg', '1154.jpg', '914.jpg', '1331.jpg', '1392.jpg', '1644.jpg', '409.jpg', '638.jpg', '56.jpg', '438.jpg', '675.jpg', '783.jpg', '255.jpg', '480.jpg', '1713.jpg', '627.jpg', '673.jpg', '748.jpg', '693.jpg', '1787.jpg', '202.jpg', '900.jpg', '1547.jpg', '1633.jpg', '1105.jpg', '800.jpg', '937.jpg', '1129.jpg', '243.jpg', '567.jpg', '1565.jpg', '241.jpg', '684.jpg', '1169.jpg', '1691.jpg', '361.jpg', '1306.jpg', '491.jpg', '1084.jpg', '1386.jpg', '180.jpg', '471.jpg']\n",
            "['650.jpg', '1161.jpg', '1224.jpg', '1126.jpg', '1278.jpg', '250.jpg', '1148.jpg', '1153.jpg', '102.jpg', '1000.jpg', '849.jpg', '19.jpg', '266.jpg', '642.jpg', '427.jpg', '1493.jpg', '697.jpg', '701.jpg', '1445.jpg', '1341.jpg', '1277.jpg', '1285.jpg', '779.jpg', '489.jpg', '606.jpg', '720.jpg', '119.jpg', '1475.jpg', '768.jpg', '55.jpg', '1373.jpg', '555.jpg', '1016.jpg', '1034.jpg', '1015.jpg', '1104.jpg', '449.jpg', '906.jpg', '1480.jpg', '672.jpg', '162.jpg', '1086.jpg', '1455.jpg', '1188.jpg', '1097.jpg', '636.jpg', '357.jpg', '853.jpg', '811.jpg', '890.jpg', '1062.jpg', '353.jpg', '1044.jpg', '750.jpg', '892.jpg', '1351.jpg', '1245.jpg', '677.jpg', '1182.jpg', '1454.jpg', '1303.jpg', '730.jpg', '506.jpg', '946.jpg', '1050.jpg', '582.jpg', '1110.jpg', '982.jpg', '1125.jpg', '954.jpg', '1369.jpg', '666.jpg', '264.jpg', '837.jpg', '878.jpg', '1319.jpg', '254.jpg', '576.jpg', '933.jpg', '820.jpg', '738.jpg', '1248.jpg', '1043.jpg', '600.jpg', '577.jpg', '1172.jpg', '500.jpg', '378.jpg', '1073.jpg', '78.jpg', '1272.jpg', '733.jpg', '1471.jpg', '1098.jpg', '936.jpg', '1467.jpg', '397.jpg', '332.jpg', '1100.jpg', '821.jpg', '1465.jpg', '369.jpg', '1273.jpg', '856.jpg', '834.jpg', '99.jpg', '18.jpg', '1152.jpg', '1010.jpg', '1048.jpg', '460.jpg', '535.jpg', '840.jpg', '534.jpg', '662.jpg', '9.jpg', '292.jpg', '599.jpg', '284.jpg', '163.jpg', '1059.jpg', '486.jpg', '346.jpg', '931.jpg', '336.jpg', '1261.jpg', '986.jpg', '314.jpg', '1052.jpg', '149.jpg', '261.jpg', '228.jpg', '1491.jpg', '422.jpg', '127.jpg', '352.jpg', '1334.jpg', '957.jpg', '990.jpg', '123.jpg', '541.jpg', '598.jpg', '861.jpg', '1184.jpg', '1092.jpg', '695.jpg', '1070.jpg', '998.jpg', '678.jpg', '192.jpg', '1459.jpg', '647.jpg', '435.jpg', '235.jpg', '1476.jpg', '109.jpg', '376.jpg', '112.jpg', '1061.jpg', '440.jpg', '70.jpg', '197.jpg', '1340.jpg', '1413.jpg', '1481.jpg', '1207.jpg', '304.jpg', '902.jpg', '645.jpg', '769.jpg', '396.jpg', '1213.jpg', '487.jpg', '625.jpg', '1233.jpg', '41.jpg', '1067.jpg', '1117.jpg', '227.jpg', '14.jpg', '1214.jpg', '895.jpg', '532.jpg', '444.jpg', '488.jpg', '524.jpg', '305.jpg', '1203.jpg', '1399.jpg', '30.jpg', '724.jpg', '10.jpg', '100.jpg', '1039.jpg', '918.jpg', '620.jpg', '842.jpg', '1075.jpg', '872.jpg', '1328.jpg', '742.jpg', '1293.jpg', '72.jpg', '1028.jpg', '731.jpg', '1001.jpg', '324.jpg', '993.jpg', '326.jpg', '1265.jpg', '101.jpg', '543.jpg', '1051.jpg', '809.jpg', '1288.jpg', '1458.jpg', '640.jpg', '1111.jpg', '1014.jpg', '865.jpg', '810.jpg', '1025.jpg', '115.jpg', '657.jpg', '760.jpg', '1071.jpg', '1200.jpg', '907.jpg', '1102.jpg', '1453.jpg', '365.jpg', '539.jpg', '201.jpg', '1448.jpg', '1191.jpg', '142.jpg', '302.jpg', '415.jpg', '461.jpg', '1291.jpg', '43.jpg', '1396.jpg', '1390.jpg', '680.jpg', '1101.jpg', '1381.jpg', '80.jpg', '233.jpg', '1405.jpg', '613.jpg', '851.jpg', '333.jpg', '1253.jpg', '385.jpg', '1439.jpg', '1337.jpg', '1136.jpg', '166.jpg', '999.jpg', '1377.jpg', '151.jpg', '334.jpg', '548.jpg', '1437.jpg', '225.jpg', '287.jpg', '1057.jpg', '1326.jpg', '618.jpg', '825.jpg', '1450.jpg', '1353.jpg', '729.jpg', '1106.jpg', '814.jpg', '716.jpg', '968.jpg', '60.jpg', '1054.jpg', '248.jpg', '116.jpg', '1204.jpg', '1210.jpg', '253.jpg', '1243.jpg', '877.jpg', '300.jpg', '1138.jpg', '319.jpg', '921.jpg', '700.jpg', '1008.jpg', '1158.jpg', '48.jpg', '1226.jpg', '477.jpg', '118.jpg', '130.jpg', '682.jpg', '1260.jpg', '308.jpg', '329.jpg', '207.jpg', '141.jpg', '831.jpg', '67.jpg', '765.jpg', '252.jpg', '1404.jpg', '210.jpg', '795.jpg', '1241.jpg', '306.jpg', '47.jpg', '1118.jpg', '960.jpg', '502.jpg', '1305.jpg', '2.jpg', '434.jpg', '198.jpg', '1090.jpg', '626.jpg', '589.jpg', '1281.jpg', '272.jpg', '465.jpg', '755.jpg', '408.jpg', '423.jpg', '1348.jpg', '1414.jpg', '443.jpg', '710.jpg', '656.jpg', '1036.jpg', '1230.jpg', '320.jpg', '481.jpg', '1063.jpg', '622.jpg', '863.jpg', '1441.jpg', '833.jpg', '1053.jpg', '1391.jpg', '816.jpg', '756.jpg', '269.jpg', '49.jpg', '1144.jpg', '973.jpg', '217.jpg', '476.jpg', '1486.jpg', '879.jpg', '708.jpg', '942.jpg', '97.jpg', '1149.jpg', '830.jpg', '1137.jpg', '124.jpg', '860.jpg', '819.jpg', '95.jpg', '758.jpg', '959.jpg', '1452.jpg', '624.jpg', '86.jpg', '291.jpg', '345.jpg', '1231.jpg', '597.jpg', '188.jpg', '224.jpg', '181.jpg', '174.jpg', '812.jpg', '922.jpg', '1032.jpg', '770.jpg', '972.jpg', '1103.jpg', '1276.jpg', '1398.jpg', '447.jpg', '903.jpg', '867.jpg', '1463.jpg', '1287.jpg', '1479.jpg', '1483.jpg', '286.jpg', '565.jpg', '503.jpg', '844.jpg', '26.jpg', '417.jpg', '1202.jpg', '229.jpg', '1477.jpg', '215.jpg', '813.jpg', '496.jpg', '388.jpg', '799.jpg', '1411.jpg', '1018.jpg', '1282.jpg', '344.jpg', '462.jpg', '1468.jpg', '578.jpg', '273.jpg', '1385.jpg', '145.jpg', '1473.jpg', '718.jpg', '523.jpg', '79.jpg', '791.jpg', '702.jpg', '220.jpg', '1321.jpg', '513.jpg', '639.jpg', '234.jpg', '977.jpg', '1346.jpg', '328.jpg', '340.jpg', '31.jpg', '1072.jpg', '398.jpg', '214.jpg', '158.jpg', '777.jpg', '218.jpg', '451.jpg', '913.jpg', '20.jpg', '282.jpg', '824.jpg', '1116.jpg', '128.jpg', '1033.jpg', '316.jpg', '165.jpg', '1299.jpg', '1403.jpg', '63.jpg', '393.jpg', '1274.jpg', '997.jpg', '84.jpg', '416.jpg', '1177.jpg', '1240.jpg', '288.jpg', '928.jpg', '975.jpg', '1469.jpg', '1482.jpg', '991.jpg', '829.jpg', '901.jpg', '1456.jpg', '245.jpg', '1269.jpg', '475.jpg', '45.jpg', '520.jpg', '1236.jpg', '473.jpg', '976.jpg', '857.jpg', '374.jpg', '312.jpg', '515.jpg', '168.jpg', '526.jpg', '634.jpg', '1435.jpg', '1002.jpg', '51.jpg', '970.jpg', '1237.jpg', '283.jpg', '561.jpg', '848.jpg', '1064.jpg', '1387.jpg', '242.jpg', '412.jpg', '537.jpg', '542.jpg', '38.jpg', '1040.jpg', '194.jpg', '1393.jpg', '140.jpg', '1421.jpg', '1134.jpg', '164.jpg', '153.jpg', '651.jpg', '607.jpg', '659.jpg', '1108.jpg', '96.jpg', '823.jpg', '585.jpg', '916.jpg', '89.jpg', '1068.jpg', '909.jpg', '209.jpg', '858.jpg', '453.jpg', '595.jpg', '862.jpg', '213.jpg', '888.jpg', '569.jpg', '301.jpg', '509.jpg', '926.jpg', '331.jpg', '766.jpg', '1206.jpg', '296.jpg', '1222.jpg', '843.jpg', '495.jpg', '285.jpg', '1360.jpg', '889.jpg', '418.jpg', '400.jpg', '1183.jpg', '1423.jpg', '125.jpg', '1178.jpg', '1264.jpg', '358.jpg', '1440.jpg', '512.jpg', '370.jpg', '761.jpg', '1318.jpg', '974.jpg', '1362.jpg', '789.jpg', '510.jpg', '1006.jpg', '154.jpg', '464.jpg', '691.jpg', '107.jpg', '280.jpg', '688.jpg', '468.jpg', '492.jpg', '212.jpg', '1235.jpg', '698.jpg', '525.jpg', '1345.jpg', '955.jpg', '805.jpg', '886.jpg', '341.jpg', '1159.jpg', '263.jpg', '1298.jpg', '712.jpg', '1147.jpg', '111.jpg', '478.jpg', '1079.jpg', '1301.jpg', '271.jpg', '90.jpg', '138.jpg', '736.jpg', '746.jpg', '11.jpg', '692.jpg', '1424.jpg', '395.jpg', '1249.jpg', '1332.jpg', '1457.jpg', '1415.jpg', '644.jpg', '847.jpg', '1077.jpg', '882.jpg', '581.jpg', '722.jpg', '262.jpg', '315.jpg', '29.jpg', '1284.jpg', '1017.jpg', '1419.jpg', '114.jpg', '32.jpg', '222.jpg', '961.jpg', '347.jpg', '752.jpg', '392.jpg', '875.jpg', '113.jpg', '1123.jpg', '297.jpg', '884.jpg', '1205.jpg', '963.jpg', '559.jpg', '631.jpg', '104.jpg', '845.jpg', '135.jpg', '699.jpg', '452.jpg', '711.jpg', '775.jpg', '726.jpg', '772.jpg', '1244.jpg', '1470.jpg', '1045.jpg', '131.jpg', '1145.jpg', '551.jpg', '806.jpg', '1223.jpg', '1290.jpg', '1314.jpg', '429.jpg', '1024.jpg', '654.jpg', '176.jpg', '40.jpg', '919.jpg', '1168.jpg', '1418.jpg', '952.jpg', '172.jpg', '1338.jpg', '563.jpg', '1412.jpg', '781.jpg', '633.jpg', '28.jpg', '1140.jpg', '1127.jpg', '337.jpg', '908.jpg', '1494.jpg', '929.jpg', '518.jpg', '15.jpg', '1409.jpg', '605.jpg', '1308.jpg', '1271.jpg', '387.jpg', '521.jpg', '325.jpg', '1246.jpg', '917.jpg', '1365.jpg', '321.jpg', '144.jpg', '538.jpg', '7.jpg', '786.jpg', '705.jpg', '835.jpg', '294.jpg', '1270.jpg', '1247.jpg', '1460.jpg', '608.jpg', '25.jpg', '935.jpg', '1311.jpg', '1195.jpg', '604.jpg', '1192.jpg', '133.jpg', '136.jpg', '204.jpg', '958.jpg', '1488.jpg', '962.jpg', '652.jpg', '774.jpg', '103.jpg', '586.jpg', '580.jpg', '16.jpg', '175.jpg', '432.jpg', '236.jpg', '249.jpg', '1434.jpg', '1307.jpg', '1011.jpg', '159.jpg', '796.jpg', '1420.jpg', '433.jpg', '1302.jpg', '984.jpg', '717.jpg', '545.jpg', '996.jpg', '77.jpg', '719.jpg', '1352.jpg', '330.jpg', '1312.jpg', '1294.jpg', '1255.jpg', '1115.jpg', '373.jpg', '721.jpg', '1350.jpg', '649.jpg', '69.jpg', '1323.jpg', '482.jpg', '579.jpg', '1309.jpg', '498.jpg', '293.jpg', '446.jpg', '380.jpg', '980.jpg', '1047.jpg', '1426.jpg', '362.jpg', '1143.jpg', '359.jpg', '558.jpg', '1356.jpg', '685.jpg', '1078.jpg', '372.jpg', '469.jpg', '1196.jpg', '941.jpg', '743.jpg', '1087.jpg', '211.jpg', '944.jpg', '472.jpg', '1257.jpg', '1139.jpg', '240.jpg', '313.jpg', '629.jpg', '267.jpg', '457.jpg', '981.jpg', '1408.jpg', '12.jpg', '298.jpg', '609.jpg', '885.jpg', '88.jpg', '121.jpg', '1442.jpg', '540.jpg', '1492.jpg', '205.jpg', '815.jpg', '617.jpg', '1132.jpg', '497.jpg', '807.jpg', '21.jpg', '553.jpg', '560.jpg', '268.jpg', '661.jpg', '108.jpg', '549.jpg', '527.jpg', '780.jpg', '1239.jpg', '414.jpg', '386.jpg', '1035.jpg', '1031.jpg', '1317.jpg', '637.jpg', '912.jpg', '219.jpg', '665.jpg', '1020.jpg', '1099.jpg', '278.jpg', '574.jpg', '787.jpg', '411.jpg', '1013.jpg', '891.jpg', '978.jpg', '223.jpg', '191.jpg', '1316.jpg', '59.jpg', '727.jpg', '448.jpg', '529.jpg', '363.jpg', '1349.jpg', '1209.jpg', '1023.jpg', '299.jpg', '1388.jpg', '664.jpg', '1021.jpg', '431.jpg', '1162.jpg', '1478.jpg', '1171.jpg', '203.jpg', '785.jpg', '690.jpg', '1133.jpg', '1225.jpg', '1219.jpg', '230.jpg', '35.jpg', '1069.jpg', '920.jpg', '146.jpg', '206.jpg', '485.jpg', '531.jpg', '1181.jpg', '94.jpg', '1327.jpg', '828.jpg', '425.jpg', '530.jpg', '1095.jpg', '1490.jpg', '34.jpg', '1372.jpg', '368.jpg', '71.jpg', '897.jpg', '171.jpg', '1431.jpg', '1201.jpg', '566.jpg', '1275.jpg', '1500.jpg', '403.jpg', '177.jpg', '170.jpg', '734.jpg', '601.jpg', '950.jpg', '349.jpg', '924.jpg', '880.jpg', '53.jpg', '413.jpg', '439.jpg', '178.jpg', '704.jpg', '1389.jpg', '1030.jpg', '442.jpg', '951.jpg', '505.jpg', '854.jpg', '798.jpg', '612.jpg', '904.jpg', '379.jpg', '943.jpg', '160.jpg', '1344.jpg', '611.jpg', '522.jpg', '137.jpg', '455.jpg', '588.jpg', '1371.jpg', '571.jpg', '484.jpg', '930.jpg', '1096.jpg', '989.jpg', '401.jpg', '1124.jpg', '966.jpg', '183.jpg', '802.jpg', '714.jpg', '1004.jpg', '126.jpg', '61.jpg', '1232.jpg', '1085.jpg', '899.jpg', '404.jpg', '741.jpg', '591.jpg', '547.jpg', '873.jpg', '1258.jpg', '1167.jpg', '1384.jpg', '50.jpg', '583.jpg', '75.jpg', '764.jpg', '1193.jpg', '1122.jpg', '295.jpg', '1428.jpg', '623.jpg', '803.jpg', '335.jpg', '1304.jpg', '1082.jpg', '1142.jpg', '956.jpg', '671.jpg', '1208.jpg', '1400.jpg', '1474.jpg', '979.jpg', '841.jpg', '967.jpg', '1146.jpg', '1109.jpg', '587.jpg', '846.jpg', '216.jpg', '64.jpg', '1042.jpg', '801.jpg', '533.jpg', '354.jpg', '517.jpg', '277.jpg', '1433.jpg', '1296.jpg', '441.jpg', '632.jpg', '983.jpg', '1407.jpg', '367.jpg', '1180.jpg', '1444.jpg', '987.jpg', '117.jpg', '923.jpg', '681.jpg', '105.jpg', '350.jpg', '406.jpg', '910.jpg', '1497.jpg', '251.jpg', '911.jpg', '1165.jpg', '850.jpg', '1283.jpg', '106.jpg', '27.jpg', '1487.jpg', '689.jpg', '1029.jpg', '391.jpg', '1406.jpg', '470.jpg', '122.jpg', '965.jpg', '1410.jpg', '550.jpg', '494.jpg', '323.jpg', '23.jpg', '1121.jpg', '1199.jpg', '1498.jpg', '745.jpg', '646.jpg', '189.jpg', '751.jpg', '187.jpg', '1130.jpg', '1279.jpg', '456.jpg', '366.jpg', '564.jpg', '226.jpg', '1093.jpg', '167.jpg', '648.jpg', '244.jpg', '493.jpg', '132.jpg', '876.jpg', '1114.jpg', '683.jpg', '969.jpg', '1055.jpg', '616.jpg', '1485.jpg', '1179.jpg', '42.jpg', '148.jpg', '1081.jpg', '594.jpg', '1367.jpg', '793.jpg', '1432.jpg', '1174.jpg', '790.jpg', '420.jpg', '939.jpg', '655.jpg', '458.jpg', '290.jpg', '281.jpg', '932.jpg', '1315.jpg', '827.jpg', '410.jpg', '896.jpg', '703.jpg', '270.jpg', '557.jpg', '964.jpg', '715.jpg', '1472.jpg', '265.jpg', '371.jpg', '818.jpg', '1212.jpg', '1076.jpg', '925.jpg', '898.jpg', '274.jpg', '1496.jpg', '1335.jpg', '1263.jpg', '82.jpg', '383.jpg', '1449.jpg', '1375.jpg', '377.jpg', '630.jpg', '737.jpg', '544.jpg', '610.jpg', '1368.jpg', '309.jpg', '221.jpg', '1175.jpg', '279.jpg', '83.jpg', '1157.jpg', '143.jpg', '1217.jpg', '199.jpg', '732.jpg', '1088.jpg', '1252.jpg', '782.jpg', '1394.jpg', '1429.jpg', '1259.jpg', '687.jpg', '945.jpg', '36.jpg', '668.jpg', '1446.jpg', '37.jpg', '988.jpg', '621.jpg', '1250.jpg', '723.jpg', '157.jpg', '152.jpg', '1041.jpg', '1363.jpg', '725.jpg', '663.jpg', '1376.jpg', '155.jpg', '1066.jpg', '289.jpg', '552.jpg', '169.jpg', '98.jpg', '669.jpg', '150.jpg', '1329.jpg', '1466.jpg', '5.jpg', '1325.jpg', '1163.jpg', '1361.jpg', '869.jpg', '351.jpg', '467.jpg', '120.jpg', '514.jpg', '728.jpg', '134.jpg', '339.jpg', '1416.jpg', '246.jpg', '784.jpg', '971.jpg', '6.jpg', '870.jpg', '855.jpg', '584.jpg', '1131.jpg', '466.jpg', '1060.jpg', '516.jpg', '915.jpg', '1462.jpg', '76.jpg', '1313.jpg', '883.jpg', '635.jpg', '707.jpg', '1324.jpg', '22.jpg', '239.jpg', '1343.jpg', '754.jpg', '327.jpg', '740.jpg', '499.jpg', '1190.jpg', '147.jpg', '938.jpg', '1397.jpg', '1107.jpg', '490.jpg', '753.jpg', '1154.jpg', '914.jpg', '1331.jpg', '1392.jpg', '1357.jpg', '56.jpg', '438.jpg', '675.jpg', '783.jpg', '676.jpg', '255.jpg', '480.jpg', '627.jpg', '673.jpg', '748.jpg', '259.jpg', '693.jpg', '202.jpg', '900.jpg', '1105.jpg', '454.jpg', '800.jpg', '311.jpg', '1129.jpg', '243.jpg', '567.jpg', '241.jpg', '684.jpg', '1169.jpg', '361.jpg', '1306.jpg', '491.jpg', '1084.jpg', '1386.jpg', '180.jpg', '471.jpg']\n",
            "['1126.jpg', '1278.jpg', '250.jpg', '1521.jpg', '1538.jpg', '642.jpg', '427.jpg', '322.jpg', '1445.jpg', '1277.jpg', '720.jpg', '119.jpg', '768.jpg', '1710.jpg', '536.jpg', '1373.jpg', '1034.jpg', '449.jpg', '906.jpg', '636.jpg', '1044.jpg', '892.jpg', '1607.jpg', '946.jpg', '1800.jpg', '1110.jpg', '982.jpg', '1125.jpg', '1756.jpg', '878.jpg', '1319.jpg', '820.jpg', '378.jpg', '1471.jpg', '936.jpg', '237.jpg', '332.jpg', '369.jpg', '1273.jpg', '1378.jpg', '18.jpg', '535.jpg', '840.jpg', '9.jpg', '284.jpg', '1261.jpg', '1721.jpg', '1628.jpg', '762.jpg', '1642.jpg', '1401.jpg', '127.jpg', '1334.jpg', '1322.jpg', '1359.jpg', '1092.jpg', '1070.jpg', '998.jpg', '419.jpg', '678.jpg', '647.jpg', '1061.jpg', '1481.jpg', '575.jpg', '304.jpg', '1701.jpg', '1214.jpg', '895.jpg', '532.jpg', '444.jpg', '1203.jpg', '724.jpg', '1687.jpg', '10.jpg', '993.jpg', '1265.jpg', '1288.jpg', '1025.jpg', '1200.jpg', '1448.jpg', '1191.jpg', '356.jpg', '1381.jpg', '1253.jpg', '385.jpg', '1634.jpg', '1377.jpg', '548.jpg', '287.jpg', '825.jpg', '1578.jpg', '253.jpg', '1243.jpg', '1731.jpg', '300.jpg', '407.jpg', '1519.jpg', '700.jpg', '1226.jpg', '1118.jpg', '1310.jpg', '2.jpg', '626.jpg', '74.jpg', '1696.jpg', '1441.jpg', '1215.jpg', '256.jpg', '1151.jpg', '1080.jpg', '1737.jpg', '1648.jpg', '97.jpg', '830.jpg', '819.jpg', '95.jpg', '758.jpg', '624.jpg', '291.jpg', '1748.jpg', '1231.jpg', '224.jpg', '770.jpg', '972.jpg', '1276.jpg', '903.jpg', '1479.jpg', '1483.jpg', '215.jpg', '813.jpg', '388.jpg', '1018.jpg', '344.jpg', '462.jpg', '1468.jpg', '1764.jpg', '273.jpg', '1473.jpg', '1443.jpg', '1758.jpg', '1321.jpg', '1019.jpg', '670.jpg', '1266.jpg', '1682.jpg', '31.jpg', '824.jpg', '1033.jpg', '1655.jpg', '1299.jpg', '63.jpg', '1155.jpg', '84.jpg', '1177.jpg', '245.jpg', '1269.jpg', '1242.jpg', '475.jpg', '45.jpg', '520.jpg', '634.jpg', '561.jpg', '1747.jpg', '1393.jpg', '140.jpg', '1134.jpg', '659.jpg', '823.jpg', '916.jpg', '909.jpg', '8.jpg', '303.jpg', '888.jpg', '1646.jpg', '495.jpg', '1183.jpg', '1592.jpg', '778.jpg', '1362.jpg', '1006.jpg', '154.jpg', '1354.jpg', '186.jpg', '805.jpg', '1545.jpg', '712.jpg', '1745.jpg', '90.jpg', '11.jpg', '1537.jpg', '1415.jpg', '644.jpg', '1077.jpg', '1657.jpg', '559.jpg', '631.jpg', '874.jpg', '1244.jpg', '806.jpg', '1290.jpg', '919.jpg', '1412.jpg', '15.jpg', '1502.jpg', '1409.jpg', '1365.jpg', '144.jpg', '826.jpg', '1112.jpg', '958.jpg', '348.jpg', '1488.jpg', '962.jpg', '774.jpg', '580.jpg', '16.jpg', '54.jpg', '1576.jpg', '1757.jpg', '433.jpg', '1714.jpg', '1.jpg', '717.jpg', '545.jpg', '596.jpg', '1611.jpg', '330.jpg', '1115.jpg', '721.jpg', '1350.jpg', '394.jpg', '1143.jpg', '558.jpg', '894.jpg', '1087.jpg', '211.jpg', '944.jpg', '893.jpg', '1139.jpg', '313.jpg', '267.jpg', '457.jpg', '1632.jpg', '1602.jpg', '88.jpg', '562.jpg', '1492.jpg', '205.jpg', '1672.jpg', '560.jpg', '268.jpg', '527.jpg', '414.jpg', '912.jpg', '57.jpg', '574.jpg', '1013.jpg', '572.jpg', '1023.jpg', '1719.jpg', '664.jpg', '1074.jpg', '690.jpg', '1704.jpg', '1342.jpg', '603.jpg', '828.jpg', '71.jpg', '1516.jpg', '763.jpg', '566.jpg', '573.jpg', '880.jpg', '479.jpg', '660.jpg', '854.jpg', '1797.jpg', '612.jpg', '379.jpg', '943.jpg', '588.jpg', '484.jpg', '1798.jpg', '802.jpg', '61.jpg', '404.jpg', '623.jpg', '335.jpg', '1579.jpg', '1499.jpg', '1208.jpg', '1400.jpg', '1146.jpg', '216.jpg', '1042.jpg', '354.jpg', '367.jpg', '1180.jpg', '681.jpg', '1170.jpg', '105.jpg', '251.jpg', '1559.jpg', '437.jpg', '689.jpg', '773.jpg', '1029.jpg', '122.jpg', '323.jpg', '751.jpg', '1530.jpg', '1135.jpg', '1130.jpg', '226.jpg', '887.jpg', '161.jpg', '1055.jpg', '1485.jpg', '1367.jpg', '389.jpg', '790.jpg', '1610.jpg', '1297.jpg', '1768.jpg', '964.jpg', '925.jpg', '428.jpg', '185.jpg', '44.jpg', '83.jpg', '317.jpg', '1514.jpg', '1088.jpg', '436.jpg', '668.jpg', '37.jpg', '725.jpg', '1003.jpg', '663.jpg', '1376.jpg', '289.jpg', '552.jpg', '98.jpg', '1711.jpg', '1466.jpg', '5.jpg', '869.jpg', '1166.jpg', '1773.jpg', '1637.jpg', '1173.jpg', '635.jpg', '1343.jpg', '147.jpg', '1357.jpg', '658.jpg', '676.jpg', '259.jpg', '454.jpg', '311.jpg']\n",
            "['1268.jpg', '322.jpg', '463.jpg', '852.jpg', '536.jpg', '17.jpg', '804.jpg', '947.jpg', '39.jpg', '839.jpg', '747.jpg', '592.jpg', '4.jpg', '426.jpg', '424.jpg', '110.jpg', '421.jpg', '1234.jpg', '237.jpg', '1438.jpg', '694.jpg', '759.jpg', '1378.jpg', '1379.jpg', '507.jpg', '762.jpg', '749.jpg', '1417.jpg', '1160.jpg', '1401.jpg', '231.jpg', '1464.jpg', '87.jpg', '1046.jpg', '1322.jpg', '1359.jpg', '1220.jpg', '1336.jpg', '1256.jpg', '992.jpg', '905.jpg', '419.jpg', '614.jpg', '1012.jpg', '1286.jpg', '949.jpg', '1495.jpg', '927.jpg', '575.jpg', '1089.jpg', '139.jpg', '1451.jpg', '1383.jpg', '13.jpg', '360.jpg', '85.jpg', '52.jpg', '706.jpg', '483.jpg', '797.jpg', '1005.jpg', '390.jpg', '356.jpg', '619.jpg', '1197.jpg', '1120.jpg', '1461.jpg', '1320.jpg', '1430.jpg', '129.jpg', '445.jpg', '679.jpg', '1395.jpg', '179.jpg', '836.jpg', '1436.jpg', '881.jpg', '407.jpg', '1221.jpg', '1382.jpg', '1164.jpg', '275.jpg', '343.jpg', '519.jpg', '1310.jpg', '1484.jpg', '24.jpg', '74.jpg', '1216.jpg', '196.jpg', '1215.jpg', '1254.jpg', '256.jpg', '1295.jpg', '1151.jpg', '1355.jpg', '771.jpg', '643.jpg', '1080.jpg', '399.jpg', '1370.jpg', '1347.jpg', '1185.jpg', '864.jpg', '1091.jpg', '1141.jpg', '1358.jpg', '81.jpg', '338.jpg', '735.jpg', '310.jpg', '1443.jpg', '948.jpg', '1019.jpg', '670.jpg', '985.jpg', '1266.jpg', '674.jpg', '405.jpg', '65.jpg', '546.jpg', '33.jpg', '3.jpg', '46.jpg', '430.jpg', '66.jpg', '1330.jpg', '1155.jpg', '342.jpg', '1242.jpg', '859.jpg', '1065.jpg', '1194.jpg', '568.jpg', '1007.jpg', '1280.jpg', '276.jpg', '1119.jpg', '364.jpg', '615.jpg', '504.jpg', '1227.jpg', '1425.jpg', '953.jpg', '792.jpg', '8.jpg', '303.jpg', '871.jpg', '1156.jpg', '1038.jpg', '794.jpg', '450.jpg', '1238.jpg', '1262.jpg', '778.jpg', '1380.jpg', '1229.jpg', '1187.jpg', '208.jpg', '1354.jpg', '709.jpg', '186.jpg', '713.jpg', '257.jpg', '808.jpg', '1022.jpg', '1228.jpg', '1083.jpg', '744.jpg', '238.jpg', '874.jpg', '58.jpg', '355.jpg', '258.jpg', '1427.jpg', '696.jpg', '686.jpg', '182.jpg', '184.jpg', '402.jpg', '156.jpg', '826.jpg', '1049.jpg', '739.jpg', '1112.jpg', '348.jpg', '1447.jpg', '1364.jpg', '54.jpg', '940.jpg', '508.jpg', '590.jpg', '1.jpg', '757.jpg', '994.jpg', '596.jpg', '653.jpg', '200.jpg', '394.jpg', '1058.jpg', '894.jpg', '318.jpg', '93.jpg', '1037.jpg', '501.jpg', '893.jpg', '667.jpg', '381.jpg', '554.jpg', '562.jpg', '1333.jpg', '384.jpg', '1094.jpg', '57.jpg', '1150.jpg', '511.jpg', '474.jpg', '1374.jpg', '1026.jpg', '68.jpg', '572.jpg', '1267.jpg', '1074.jpg', '817.jpg', '190.jpg', '822.jpg', '1342.jpg', '603.jpg', '593.jpg', '1422.jpg', '382.jpg', '528.jpg', '1009.jpg', '763.jpg', '573.jpg', '1211.jpg', '1189.jpg', '934.jpg', '479.jpg', '660.jpg', '195.jpg', '868.jpg', '307.jpg', '193.jpg', '73.jpg', '641.jpg', '1499.jpg', '1251.jpg', '260.jpg', '1366.jpg', '1170.jpg', '866.jpg', '437.jpg', '773.jpg', '832.jpg', '1198.jpg', '570.jpg', '62.jpg', '1186.jpg', '1489.jpg', '1135.jpg', '628.jpg', '887.jpg', '556.jpg', '161.jpg', '1292.jpg', '92.jpg', '1402.jpg', '1300.jpg', '459.jpg', '389.jpg', '838.jpg', '1297.jpg', '602.jpg', '173.jpg', '375.jpg', '1113.jpg', '428.jpg', '185.jpg', '44.jpg', '247.jpg', '317.jpg', '1339.jpg', '436.jpg', '995.jpg', '1218.jpg', '1128.jpg', '1003.jpg', '1176.jpg', '1166.jpg', '232.jpg', '1173.jpg', '1027.jpg', '91.jpg', '1056.jpg', '1289.jpg', '658.jpg', '409.jpg', '638.jpg', '937.jpg']\n",
            "1440\n",
            "360\n",
            "1197\n",
            "360\n"
          ],
          "name": "stdout"
        }
      ]
    },
    {
      "cell_type": "markdown",
      "metadata": {
        "id": "BTbok2_OfSBd",
        "colab_type": "text"
      },
      "source": [
        "DATA GENERATORS validation and training"
      ]
    },
    {
      "cell_type": "code",
      "metadata": {
        "id": "pro6Q4wtO_BF",
        "colab_type": "code",
        "colab": {
          "base_uri": "https://localhost:8080/",
          "height": 51
        },
        "outputId": "dee5613d-60d3-4b45-8caa-0c3222b73c06"
      },
      "source": [
        "\n",
        "\n",
        "train_datagen = ImageDataGenerator(\n",
        "      rescale=1./255,\n",
        "      rotation_range=90,\n",
        "      width_shift_range=0.2,\n",
        "      height_shift_range=0.2,\n",
        "      #shear_range=0.2,\n",
        "      zoom_range=0.2,\n",
        "      horizontal_flip=True,\n",
        "      #fill_mode='nearest')\n",
        ")\n",
        "validation_datagen = ImageDataGenerator(rescale=1/255)\n",
        "train_generator = train_datagen.flow_from_directory(\n",
        "    TRAIN_DIR,\n",
        "    target_size=(128, 128),\n",
        "    batch_size=521,\n",
        "    class_mode='binary'\n",
        "    \n",
        ")\n",
        "validation_generator = validation_datagen.flow_from_directory(    \n",
        "    VAL_DIR,\n",
        "    target_size=(128, 128),\n",
        "    batch_size=128,\n",
        "    class_mode='binary')"
      ],
      "execution_count": 17,
      "outputs": [
        {
          "output_type": "stream",
          "text": [
            "Found 2637 images belonging to 2 classes.\n",
            "Found 660 images belonging to 2 classes.\n"
          ],
          "name": "stdout"
        }
      ]
    },
    {
      "cell_type": "markdown",
      "metadata": {
        "id": "NJ9R_5Kcfp_M",
        "colab_type": "text"
      },
      "source": [
        "THE CONVOLUTIONAL LAYERS AND THE MODEL"
      ]
    },
    {
      "cell_type": "code",
      "metadata": {
        "id": "m3u0JIJVQCrz",
        "colab_type": "code",
        "colab": {
          "base_uri": "https://localhost:8080/",
          "height": 425
        },
        "outputId": "0e1972b8-3654-456b-eae8-26904456a74c"
      },
      "source": [
        "model = keras.Sequential([\n",
        "    keras.layers.Conv2D(16, (3,3), activation='relu', input_shape=(128, 128, 3)),\n",
        "    keras.layers.MaxPool2D(2, 2),\n",
        "    keras.layers.Conv2D( 32 , (3,3), activation='relu'),\n",
        "    keras.layers.MaxPool2D(2, 2),\n",
        "    #keras.layers.Conv2D( 32 , (3,3), activation='relu'),\n",
        "    #keras.layers.MaxPool2D(2, 2),\n",
        "    keras.layers.Flatten(),\n",
        "    keras.layers.Dropout(0.2),\n",
        "    keras.layers.Dense(600, activation='relu'),\n",
        "    keras.layers.Dense(1, activation='sigmoid')\n",
        "\n",
        "])\n",
        "\n",
        "model.summary() #defining the summary of the model"
      ],
      "execution_count": 18,
      "outputs": [
        {
          "output_type": "stream",
          "text": [
            "Model: \"sequential_2\"\n",
            "_________________________________________________________________\n",
            "Layer (type)                 Output Shape              Param #   \n",
            "=================================================================\n",
            "conv2d_4 (Conv2D)            (None, 126, 126, 16)      448       \n",
            "_________________________________________________________________\n",
            "max_pooling2d_4 (MaxPooling2 (None, 63, 63, 16)        0         \n",
            "_________________________________________________________________\n",
            "conv2d_5 (Conv2D)            (None, 61, 61, 32)        4640      \n",
            "_________________________________________________________________\n",
            "max_pooling2d_5 (MaxPooling2 (None, 30, 30, 32)        0         \n",
            "_________________________________________________________________\n",
            "flatten_2 (Flatten)          (None, 28800)             0         \n",
            "_________________________________________________________________\n",
            "dropout_2 (Dropout)          (None, 28800)             0         \n",
            "_________________________________________________________________\n",
            "dense_4 (Dense)              (None, 600)               17280600  \n",
            "_________________________________________________________________\n",
            "dense_5 (Dense)              (None, 1)                 601       \n",
            "=================================================================\n",
            "Total params: 17,286,289\n",
            "Trainable params: 17,286,289\n",
            "Non-trainable params: 0\n",
            "_________________________________________________________________\n"
          ],
          "name": "stdout"
        }
      ]
    },
    {
      "cell_type": "markdown",
      "metadata": {
        "id": "5xL6Kyjhf25S",
        "colab_type": "text"
      },
      "source": [
        "Next, we'll configure the specifications for model training. We will train our model with the binary_crossentropy loss, because it's a binary classification problem and our final activation is a sigmoid. (For a refresher on loss metrics, see the Machine Learning Crash Course.) We will use the rmsprop optimizer with a learning rate of 0.0001. During training, we will want to monitor classification accuracy.\n",
        "In this case, using the RMSprop optimization algorithm is preferable "
      ]
    },
    {
      "cell_type": "code",
      "metadata": {
        "id": "QMiaeJUVQP1t",
        "colab_type": "code",
        "colab": {}
      },
      "source": [
        "from tensorflow.keras.optimizers import RMSprop\n",
        "#compilation\n",
        "model.compile(loss='binary_crossentropy', \n",
        "              optimizer=RMSprop(lr=0.0001, momentum=0.7), #momuntoum and learning rate\n",
        "              metrics=['accuracy'])"
      ],
      "execution_count": 0,
      "outputs": []
    },
    {
      "cell_type": "markdown",
      "metadata": {
        "id": "atqZ5gHyf6D4",
        "colab_type": "text"
      },
      "source": [
        "Let's train on all 2637 images available, for 50 epochs, and validate on all 720 test images. (This may take a few minutes to run.)\n",
        "\n",
        "Do note the values per epoch.\n",
        "\n",
        "You'll see 4 values per epoch -- Loss, Accuracy, Validation Loss and Validation Accuracy. \n",
        "\n",
        "The Loss and Accuracy are a great indication of progress of training. It's making a guess as to the classification of the training data, and then measuring it against the known label, calculating the result. Accuracy is the portion of correct guesses. The Validation accuracy is the measurement with the data that has not been used in training"
      ]
    },
    {
      "cell_type": "code",
      "metadata": {
        "id": "dEGxfCu8QYc-",
        "colab_type": "code",
        "colab": {
          "base_uri": "https://localhost:8080/",
          "height": 1000
        },
        "outputId": "54ed8f9a-58a5-485a-fc12-cf95de82ebf1"
      },
      "source": [
        "history = model.fit(\n",
        "      train_generator,\n",
        "      steps_per_epoch=10,  \n",
        "      epochs=50,\n",
        "      #verbose = 1\n",
        "      validation_data = validation_generator,\n",
        "      validation_steps=8\n",
        "      )"
      ],
      "execution_count": 20,
      "outputs": [
        {
          "output_type": "stream",
          "text": [
            "Epoch 1/50\n",
            "10/10 [==============================] - 78s 8s/step - loss: 0.7052 - accuracy: 0.5321 - val_loss: 0.6985 - val_accuracy: 0.5393\n",
            "Epoch 2/50\n",
            "10/10 [==============================] - 71s 7s/step - loss: 0.6566 - accuracy: 0.6241 - val_loss: 0.6248 - val_accuracy: 0.6965\n",
            "Epoch 3/50\n",
            "10/10 [==============================] - 69s 7s/step - loss: 0.6094 - accuracy: 0.6680 - val_loss: 0.6061 - val_accuracy: 0.7544\n",
            "Epoch 4/50\n",
            "10/10 [==============================] - 77s 8s/step - loss: 0.5654 - accuracy: 0.7140 - val_loss: 0.5199 - val_accuracy: 0.7063\n",
            "Epoch 5/50\n",
            "10/10 [==============================] - 72s 7s/step - loss: 0.5351 - accuracy: 0.7405 - val_loss: 0.5084 - val_accuracy: 0.6954\n",
            "Epoch 6/50\n",
            "10/10 [==============================] - 69s 7s/step - loss: 0.5023 - accuracy: 0.7377 - val_loss: 0.4695 - val_accuracy: 0.7773\n",
            "Epoch 7/50\n",
            "10/10 [==============================] - 77s 8s/step - loss: 0.4867 - accuracy: 0.7573 - val_loss: 0.4667 - val_accuracy: 0.7293\n",
            "Epoch 8/50\n",
            "10/10 [==============================] - 71s 7s/step - loss: 0.4365 - accuracy: 0.7781 - val_loss: 0.4447 - val_accuracy: 0.7817\n",
            "Epoch 9/50\n",
            "10/10 [==============================] - 69s 7s/step - loss: 0.4473 - accuracy: 0.7814 - val_loss: 0.5852 - val_accuracy: 0.6714\n",
            "Epoch 10/50\n",
            "10/10 [==============================] - 77s 8s/step - loss: 0.4828 - accuracy: 0.7598 - val_loss: 0.4460 - val_accuracy: 0.7697\n",
            "Epoch 11/50\n",
            "10/10 [==============================] - 71s 7s/step - loss: 0.4240 - accuracy: 0.7871 - val_loss: 0.4645 - val_accuracy: 0.7806\n",
            "Epoch 12/50\n",
            "10/10 [==============================] - 69s 7s/step - loss: 0.4399 - accuracy: 0.7909 - val_loss: 0.5228 - val_accuracy: 0.7620\n",
            "Epoch 13/50\n",
            "10/10 [==============================] - 77s 8s/step - loss: 0.4428 - accuracy: 0.7812 - val_loss: 0.4482 - val_accuracy: 0.7871\n",
            "Epoch 14/50\n",
            "10/10 [==============================] - 72s 7s/step - loss: 0.4399 - accuracy: 0.7812 - val_loss: 0.3928 - val_accuracy: 0.7915\n",
            "Epoch 15/50\n",
            "10/10 [==============================] - 69s 7s/step - loss: 0.4112 - accuracy: 0.7958 - val_loss: 0.4233 - val_accuracy: 0.7915\n",
            "Epoch 16/50\n",
            "10/10 [==============================] - 77s 8s/step - loss: 0.3987 - accuracy: 0.7964 - val_loss: 0.4459 - val_accuracy: 0.7882\n",
            "Epoch 17/50\n",
            "10/10 [==============================] - 72s 7s/step - loss: 0.4143 - accuracy: 0.7944 - val_loss: 0.4129 - val_accuracy: 0.8057\n",
            "Epoch 18/50\n",
            "10/10 [==============================] - 69s 7s/step - loss: 0.4126 - accuracy: 0.8034 - val_loss: 0.4056 - val_accuracy: 0.7718\n",
            "Epoch 19/50\n",
            "10/10 [==============================] - 77s 8s/step - loss: 0.4321 - accuracy: 0.7869 - val_loss: 0.4599 - val_accuracy: 0.7828\n",
            "Epoch 20/50\n",
            "10/10 [==============================] - 72s 7s/step - loss: 0.4378 - accuracy: 0.7698 - val_loss: 0.4718 - val_accuracy: 0.7751\n",
            "Epoch 21/50\n",
            "10/10 [==============================] - 69s 7s/step - loss: 0.4202 - accuracy: 0.8053 - val_loss: 0.4445 - val_accuracy: 0.7751\n",
            "Epoch 22/50\n",
            "10/10 [==============================] - 77s 8s/step - loss: 0.3957 - accuracy: 0.8098 - val_loss: 0.3887 - val_accuracy: 0.8046\n",
            "Epoch 23/50\n",
            "10/10 [==============================] - 72s 7s/step - loss: 0.4008 - accuracy: 0.8039 - val_loss: 0.3847 - val_accuracy: 0.8046\n",
            "Epoch 24/50\n",
            "10/10 [==============================] - 69s 7s/step - loss: 0.3777 - accuracy: 0.8077 - val_loss: 0.4432 - val_accuracy: 0.7926\n",
            "Epoch 25/50\n",
            "10/10 [==============================] - 78s 8s/step - loss: 0.4125 - accuracy: 0.8022 - val_loss: 0.3916 - val_accuracy: 0.7893\n",
            "Epoch 26/50\n",
            "10/10 [==============================] - 72s 7s/step - loss: 0.4092 - accuracy: 0.7921 - val_loss: 0.3772 - val_accuracy: 0.8013\n",
            "Epoch 27/50\n",
            "10/10 [==============================] - 69s 7s/step - loss: 0.3838 - accuracy: 0.8079 - val_loss: 0.4367 - val_accuracy: 0.7849\n",
            "Epoch 28/50\n",
            "10/10 [==============================] - 78s 8s/step - loss: 0.3870 - accuracy: 0.8104 - val_loss: 0.3728 - val_accuracy: 0.8166\n",
            "Epoch 29/50\n",
            "10/10 [==============================] - 73s 7s/step - loss: 0.3615 - accuracy: 0.8155 - val_loss: 0.4159 - val_accuracy: 0.8013\n",
            "Epoch 30/50\n",
            "10/10 [==============================] - 69s 7s/step - loss: 0.4250 - accuracy: 0.8006 - val_loss: 0.3805 - val_accuracy: 0.7926\n",
            "Epoch 31/50\n",
            "10/10 [==============================] - 78s 8s/step - loss: 0.3811 - accuracy: 0.8100 - val_loss: 0.4340 - val_accuracy: 0.7838\n",
            "Epoch 32/50\n",
            "10/10 [==============================] - 72s 7s/step - loss: 0.3896 - accuracy: 0.8112 - val_loss: 0.4263 - val_accuracy: 0.7926\n",
            "Epoch 33/50\n",
            "10/10 [==============================] - 69s 7s/step - loss: 0.3873 - accuracy: 0.8086 - val_loss: 0.5000 - val_accuracy: 0.7718\n",
            "Epoch 34/50\n",
            "10/10 [==============================] - 77s 8s/step - loss: 0.3996 - accuracy: 0.8094 - val_loss: 0.4190 - val_accuracy: 0.8057\n",
            "Epoch 35/50\n",
            "10/10 [==============================] - 72s 7s/step - loss: 0.3868 - accuracy: 0.8112 - val_loss: 0.4143 - val_accuracy: 0.8090\n",
            "Epoch 36/50\n",
            "10/10 [==============================] - 69s 7s/step - loss: 0.3876 - accuracy: 0.8150 - val_loss: 0.4585 - val_accuracy: 0.7817\n",
            "Epoch 37/50\n",
            "10/10 [==============================] - 78s 8s/step - loss: 0.3748 - accuracy: 0.8147 - val_loss: 0.3983 - val_accuracy: 0.8035\n",
            "Epoch 38/50\n",
            "10/10 [==============================] - 72s 7s/step - loss: 0.3984 - accuracy: 0.7989 - val_loss: 0.3555 - val_accuracy: 0.8264\n",
            "Epoch 39/50\n",
            "10/10 [==============================] - 69s 7s/step - loss: 0.4064 - accuracy: 0.8129 - val_loss: 0.3847 - val_accuracy: 0.8231\n",
            "Epoch 40/50\n",
            "10/10 [==============================] - 78s 8s/step - loss: 0.3732 - accuracy: 0.8295 - val_loss: 0.3931 - val_accuracy: 0.8100\n",
            "Epoch 41/50\n",
            "10/10 [==============================] - 72s 7s/step - loss: 0.3860 - accuracy: 0.8157 - val_loss: 0.3810 - val_accuracy: 0.8210\n",
            "Epoch 42/50\n",
            "10/10 [==============================] - 69s 7s/step - loss: 0.3883 - accuracy: 0.8197 - val_loss: 0.4478 - val_accuracy: 0.7926\n",
            "Epoch 43/50\n",
            "10/10 [==============================] - 78s 8s/step - loss: 0.3696 - accuracy: 0.8195 - val_loss: 0.3787 - val_accuracy: 0.8286\n",
            "Epoch 44/50\n",
            "10/10 [==============================] - 72s 7s/step - loss: 0.4040 - accuracy: 0.8171 - val_loss: 0.3742 - val_accuracy: 0.8242\n",
            "Epoch 45/50\n",
            "10/10 [==============================] - 69s 7s/step - loss: 0.3887 - accuracy: 0.8211 - val_loss: 0.4236 - val_accuracy: 0.8013\n",
            "Epoch 46/50\n",
            "10/10 [==============================] - 77s 8s/step - loss: 0.4087 - accuracy: 0.8108 - val_loss: 0.3891 - val_accuracy: 0.8046\n",
            "Epoch 47/50\n",
            "10/10 [==============================] - 72s 7s/step - loss: 0.4336 - accuracy: 0.7989 - val_loss: 0.3672 - val_accuracy: 0.8188\n",
            "Epoch 48/50\n",
            "10/10 [==============================] - 69s 7s/step - loss: 0.3802 - accuracy: 0.8199 - val_loss: 0.3742 - val_accuracy: 0.8177\n",
            "Epoch 49/50\n",
            "10/10 [==============================] - 77s 8s/step - loss: 0.3819 - accuracy: 0.8212 - val_loss: 0.3686 - val_accuracy: 0.8166\n",
            "Epoch 50/50\n",
            "10/10 [==============================] - 72s 7s/step - loss: 0.4201 - accuracy: 0.8074 - val_loss: 0.3721 - val_accuracy: 0.8133\n"
          ],
          "name": "stdout"
        }
      ]
    },
    {
      "cell_type": "markdown",
      "metadata": {
        "id": "ZLvTqV4ff-_T",
        "colab_type": "text"
      },
      "source": [
        "Visualizing Intermediate Representations"
      ]
    },
    {
      "cell_type": "code",
      "metadata": {
        "id": "dw7l7mDAQdJc",
        "colab_type": "code",
        "colab": {
          "base_uri": "https://localhost:8080/",
          "height": 298
        },
        "outputId": "5589b996-d818-47d5-f3de-a2af84e56b44"
      },
      "source": [
        "acc = history.history['accuracy']\n",
        "val_acc = history.history['val_accuracy']\n",
        "loss = history.history['loss']\n",
        "val_loss = history.history['val_loss']\n",
        "\n",
        "epochs = range(len(acc))\n",
        "\n",
        "plt.plot(epochs, acc, 'r', label='Training accuracy')\n",
        "plt.plot(epochs, val_acc, 'b', label='Validation accuracy')\n",
        "Epochs = range(len(loss))\n",
        "plt.plot(Epochs, loss, 'r', label='Training loss')\n",
        "plt.plot(Epochs, val_loss, 'b', label='Validation loss')\n",
        "plt.title('Training and validation accuracy')\n",
        "plt.legend(loc=0)\n",
        "plt.figure()\n",
        "\n",
        "\n",
        "plt.show()"
      ],
      "execution_count": 34,
      "outputs": [
        {
          "output_type": "display_data",
          "data": {
            "image/png": "[encoded data removed]",
            "text/plain": [
              "<Figure size 432x288 with 1 Axes>"
            ]
          },
          "metadata": {
            "tags": []
          }
        },
        {
          "output_type": "display_data",
          "data": {
            "text/plain": [
              "<Figure size 432x288 with 0 Axes>"
            ]
          },
          "metadata": {
            "tags": []
          }
        }
      ]
    },
    {
      "cell_type": "markdown",
      "metadata": {
        "id": "51XPj4YqzCJ9",
        "colab_type": "text"
      },
      "source": [
        "le's give it a try\n"
      ]
    },
    {
      "cell_type": "code",
      "metadata": {
        "id": "HBO2t20SltWj",
        "colab_type": "code",
        "colab": {
          "resources": {
            "http://localhost:8080/nbextensions/google.colab/files.js": {
              "data": "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",
              "ok": true,
              "headers": [
                [
                  "content-type",
                  "application/javascript"
                ]
              ],
              "status": 200,
              "status_text": ""
            }
          },
          "base_uri": "https://localhost:8080/",
          "height": 108
        },
        "outputId": "873976ff-bca7-4751-f2ab-6d517f730e74"
      },
      "source": [
        "\n",
        "from google.colab import files\n",
        "from keras.preprocessing import image\n",
        "\n",
        "uploaded=files.upload()\n",
        "\n",
        "for fn in uploaded.keys():\n",
        " \n",
        "  # predicting images\n",
        "  path='/content/' + fn\n",
        "  img=image.load_img(path, target_size=(128, 128))\n",
        "  \n",
        "  x=image.img_to_array(img)\n",
        "  x=np.expand_dims(x, axis=0)\n",
        "  images = np.vstack([x])\n",
        "  \n",
        "  classes = model.predict(images, batch_size=10)\n",
        "  \n",
        "  print(classes[0])\n",
        "  \n",
        "  if classes[0]>0:\n",
        "    print(fn + \" is malignant\")\n",
        "    \n",
        "  else:\n",
        "    print(fn + \" is benign\")"
      ],
      "execution_count": 45,
      "outputs": [
        {
          "output_type": "display_data",
          "data": {
            "text/html": [
              "\n",
              "     <input type=\"file\" id=\"files-2d4802af-d123-48de-bbe6-40c87bedb718\" name=\"files[]\" multiple disabled />\n",
              "     <output id=\"result-2d4802af-d123-48de-bbe6-40c87bedb718\">\n",
              "      Upload widget is only available when the cell has been executed in the\n",
              "      current browser session. Please rerun this cell to enable.\n",
              "      </output>\n",
              "      <script src=\"/nbextensions/google.colab/files.js\"></script> "
            ],
            "text/plain": [
              "<IPython.core.display.HTML object>"
            ]
          },
          "metadata": {
            "tags": []
          }
        },
        {
          "output_type": "stream",
          "text": [
            "Saving df.PNG to df.PNG\n",
            "[0.]\n",
            "df.PNG is benign\n"
          ],
          "name": "stdout"
        }
      ]
    }
  ]
}